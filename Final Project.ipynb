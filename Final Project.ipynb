{
 "cells": [
  {
   "cell_type": "markdown",
   "id": "3d5de576-6202-4c20-a40d-1e0e8a4a6c0d",
   "metadata": {},
   "source": [
    "## Getting Data from Firebase"
   ]
  },
  {
   "cell_type": "code",
   "execution_count": 90,
   "id": "3673c9ea",
   "metadata": {},
   "outputs": [],
   "source": [
    "from flask import Flask, render_template, request\n",
    "import firebase_admin\n",
    "from firebase_admin import credentials\n",
    "from firebase_admin import db\n",
    "import plotly.graph_objects as go\n",
    "from sklearn.model_selection import train_test_split\n",
    "from sklearn.linear_model import LinearRegression\n",
    "import pandas as pd\n",
    "import numpy as np\n",
    "from datetime import datetime"
   ]
  },
  {
   "cell_type": "code",
   "execution_count": 91,
   "id": "fef2dedd",
   "metadata": {
    "scrolled": true
   },
   "outputs": [],
   "source": [
    "cred = credentials.Certificate(\"finalkey.json\")\n",
    "firebase_admin.initialize_app(cred, {'databaseURL': 'https://final-project-f23d0-default-rtdb.firebaseio.com/'})"
   ]
  },
  {
   "cell_type": "code",
   "execution_count": 109,
   "id": "1ca91b03",
   "metadata": {},
   "outputs": [],
   "source": [
    "def get_values(name):\n",
    "    ref = db.reference('/')\n",
    "    temp_sensor = ref.child(f'climate/{name}').get()\n",
    "\n",
    "    timestamp = []\n",
    "    value = []\n",
    "    \n",
    "    for key, val in temp_sensor.items():\n",
    "        value.append(val[name])\n",
    "        timestamp.append(val['timestamp'])\n",
    "\n",
    "    return timestamp, value\n",
    "\n",
    "def viz(timestamp, value, name):\n",
    "    data = go.Scatter(x=timestamp, y=value)\n",
    "    fig = go.Figure(data=data)\n",
    "\n",
    "    fig.layout.title = f'{name} Over Day'\n",
    "    fig.layout.xaxis.title = 'Timestamp'\n",
    "    fig.layout.yaxis.title = name\n",
    "\n",
    "    return fig\n",
    "\n",
    "def all_viz(timestamp, temp, humid, photo):\n",
    "    trace1 = go.Scatter(x=timestamp, y=temp, mode='lines', name='Temperature')\n",
    "    trace2 = go.Scatter(x=timestamp, y=humid, mode='lines', name='Humidity')\n",
    "    trace3 = go.Scatter(x=timestamp, y=photo, mode='lines', name='Photoresistor')\n",
    "\n",
    "    fig = go.Figure()\n",
    "    fig.add_trace(trace1)\n",
    "    fig.add_trace(trace2)\n",
    "    fig.add_trace(trace3)\n",
    "\n",
    "    fig.update_layout(\n",
    "        title='Climate Over Time',\n",
    "        xaxis_title='Timestamp',\n",
    "        yaxis_title='Value'\n",
    "    )\n",
    "\n",
    "    return fig\n",
    "\n",
    "def Predict_viz():\n",
    "    # Create a scatter plot\n",
    "    trace = go.Scatter(x=y_test, y=y_pred,\n",
    "        mode='markers',\n",
    "        marker=dict(color='blue'),\n",
    "        name='Actual vs Predicted'\n",
    "    )\n",
    "\n",
    "    # Add the ideal line\n",
    "    ideal_line = go.Scatter(\n",
    "        x=[min(y_test), max(y_test)],\n",
    "        y=[min(y_test), max(y_test)],\n",
    "        mode='lines',\n",
    "        line=dict(color='red', dash='dash'),\n",
    "        name='Ideal Line'\n",
    "    )\n",
    "\n",
    "    # Layout\n",
    "    layout = go.Layout(\n",
    "        title='Actual vs Predicted Temperature',\n",
    "        xaxis=dict(title='Actual Temperature'),\n",
    "        yaxis=dict(title='Predicted Temperature'),\n",
    "        showlegend=True\n",
    "    )\n",
    "\n",
    "    # Combine trace and layout\n",
    "    fig = go.Figure(data=[trace, ideal_line], layout=layout)\n",
    "\n",
    "    return fig"
   ]
  },
  {
   "cell_type": "code",
   "execution_count": 110,
   "id": "bbecb3ae",
   "metadata": {},
   "outputs": [],
   "source": [
    "ref = db.reference('/')\n",
    "\n",
    "timestamp, temp = get_values('temp')\n",
    "tempFig = viz(timestamp, temp, 'Temperature').to_json()\n",
    "\n",
    "_, humid = get_values('humid')\n",
    "HumidFig = viz(timestamp, humid, 'Humidity').to_json()\n",
    "\n",
    "_, photo = get_values('photo')\n",
    "PhotoFig = viz(timestamp, photo, 'Photoresistor').to_json()\n",
    "\n",
    "allFig = all_viz(timestamp, temp, humid, photo).to_json()\n",
    "PredictFig = Predict_viz().to_json()"
   ]
  },
  {
   "cell_type": "code",
   "execution_count": 94,
   "id": "a8dc6a56",
   "metadata": {},
   "outputs": [],
   "source": [
    "# Convert timestamps to numerical representation\n",
    "start_time = datetime.strptime(timestamp[0], \"%Y-%m-%dT%H:%M:%S.%f\")\n",
    "time_numeric = [(datetime.strptime(ts, \"%Y-%m-%dT%H:%M:%S.%f\") - start_time).total_seconds() if ts is not None else None for ts in timestamp]\n",
    "\n",
    "humid = np.array(humid, dtype=float)\n",
    "temp = np.array(temp, dtype=float)\n",
    "photo = np.array(photo, dtype=float)\n",
    "time_numeric = np.array(time_numeric, dtype=float)\n",
    "\n",
    "# Handle None values in humidity by replacing them with the mean\n",
    "humid_mean = np.nanmean(humid)\n",
    "humid = np.where(np.isnan(humid), humid_mean, humid)\n",
    "\n",
    "# Handle None values in photo by replacing them with the mean\n",
    "photo_mean = np.nanmean(photo)\n",
    "photo = np.where(np.isnan(photo), photo_mean, photo)\n",
    "\n",
    "# Handle None values in Temperature by replacing them with the mean\n",
    "temp_mean = np.nanmean(temp)\n",
    "temp = np.where(np.isnan(temp), temp_mean, temp)"
   ]
  },
  {
   "cell_type": "code",
   "execution_count": 95,
   "id": "b3cbae9c",
   "metadata": {},
   "outputs": [],
   "source": [
    "X = np.column_stack((time_numeric, humid, temp, photo))"
   ]
  },
  {
   "cell_type": "code",
   "execution_count": 96,
   "id": "dfeecf84",
   "metadata": {},
   "outputs": [],
   "source": [
    "X_train, X_test, y_train, y_test = train_test_split(X, temp, test_size=0.2, random_state=42)"
   ]
  },
  {
   "cell_type": "code",
   "execution_count": 97,
   "id": "9bbd68f3",
   "metadata": {
    "scrolled": false
   },
   "outputs": [
    {
     "data": {
      "text/html": [
       "<style>#sk-container-id-3 {color: black;}#sk-container-id-3 pre{padding: 0;}#sk-container-id-3 div.sk-toggleable {background-color: white;}#sk-container-id-3 label.sk-toggleable__label {cursor: pointer;display: block;width: 100%;margin-bottom: 0;padding: 0.3em;box-sizing: border-box;text-align: center;}#sk-container-id-3 label.sk-toggleable__label-arrow:before {content: \"▸\";float: left;margin-right: 0.25em;color: #696969;}#sk-container-id-3 label.sk-toggleable__label-arrow:hover:before {color: black;}#sk-container-id-3 div.sk-estimator:hover label.sk-toggleable__label-arrow:before {color: black;}#sk-container-id-3 div.sk-toggleable__content {max-height: 0;max-width: 0;overflow: hidden;text-align: left;background-color: #f0f8ff;}#sk-container-id-3 div.sk-toggleable__content pre {margin: 0.2em;color: black;border-radius: 0.25em;background-color: #f0f8ff;}#sk-container-id-3 input.sk-toggleable__control:checked~div.sk-toggleable__content {max-height: 200px;max-width: 100%;overflow: auto;}#sk-container-id-3 input.sk-toggleable__control:checked~label.sk-toggleable__label-arrow:before {content: \"▾\";}#sk-container-id-3 div.sk-estimator input.sk-toggleable__control:checked~label.sk-toggleable__label {background-color: #d4ebff;}#sk-container-id-3 div.sk-label input.sk-toggleable__control:checked~label.sk-toggleable__label {background-color: #d4ebff;}#sk-container-id-3 input.sk-hidden--visually {border: 0;clip: rect(1px 1px 1px 1px);clip: rect(1px, 1px, 1px, 1px);height: 1px;margin: -1px;overflow: hidden;padding: 0;position: absolute;width: 1px;}#sk-container-id-3 div.sk-estimator {font-family: monospace;background-color: #f0f8ff;border: 1px dotted black;border-radius: 0.25em;box-sizing: border-box;margin-bottom: 0.5em;}#sk-container-id-3 div.sk-estimator:hover {background-color: #d4ebff;}#sk-container-id-3 div.sk-parallel-item::after {content: \"\";width: 100%;border-bottom: 1px solid gray;flex-grow: 1;}#sk-container-id-3 div.sk-label:hover label.sk-toggleable__label {background-color: #d4ebff;}#sk-container-id-3 div.sk-serial::before {content: \"\";position: absolute;border-left: 1px solid gray;box-sizing: border-box;top: 0;bottom: 0;left: 50%;z-index: 0;}#sk-container-id-3 div.sk-serial {display: flex;flex-direction: column;align-items: center;background-color: white;padding-right: 0.2em;padding-left: 0.2em;position: relative;}#sk-container-id-3 div.sk-item {position: relative;z-index: 1;}#sk-container-id-3 div.sk-parallel {display: flex;align-items: stretch;justify-content: center;background-color: white;position: relative;}#sk-container-id-3 div.sk-item::before, #sk-container-id-3 div.sk-parallel-item::before {content: \"\";position: absolute;border-left: 1px solid gray;box-sizing: border-box;top: 0;bottom: 0;left: 50%;z-index: -1;}#sk-container-id-3 div.sk-parallel-item {display: flex;flex-direction: column;z-index: 1;position: relative;background-color: white;}#sk-container-id-3 div.sk-parallel-item:first-child::after {align-self: flex-end;width: 50%;}#sk-container-id-3 div.sk-parallel-item:last-child::after {align-self: flex-start;width: 50%;}#sk-container-id-3 div.sk-parallel-item:only-child::after {width: 0;}#sk-container-id-3 div.sk-dashed-wrapped {border: 1px dashed gray;margin: 0 0.4em 0.5em 0.4em;box-sizing: border-box;padding-bottom: 0.4em;background-color: white;}#sk-container-id-3 div.sk-label label {font-family: monospace;font-weight: bold;display: inline-block;line-height: 1.2em;}#sk-container-id-3 div.sk-label-container {text-align: center;}#sk-container-id-3 div.sk-container {/* jupyter's `normalize.less` sets `[hidden] { display: none; }` but bootstrap.min.css set `[hidden] { display: none !important; }` so we also need the `!important` here to be able to override the default hidden behavior on the sphinx rendered scikit-learn.org. See: https://github.com/scikit-learn/scikit-learn/issues/21755 */display: inline-block !important;position: relative;}#sk-container-id-3 div.sk-text-repr-fallback {display: none;}</style><div id=\"sk-container-id-3\" class=\"sk-top-container\"><div class=\"sk-text-repr-fallback\"><pre>LinearRegression()</pre><b>In a Jupyter environment, please rerun this cell to show the HTML representation or trust the notebook. <br />On GitHub, the HTML representation is unable to render, please try loading this page with nbviewer.org.</b></div><div class=\"sk-container\" hidden><div class=\"sk-item\"><div class=\"sk-estimator sk-toggleable\"><input class=\"sk-toggleable__control sk-hidden--visually\" id=\"sk-estimator-id-3\" type=\"checkbox\" checked><label for=\"sk-estimator-id-3\" class=\"sk-toggleable__label sk-toggleable__label-arrow\">LinearRegression</label><div class=\"sk-toggleable__content\"><pre>LinearRegression()</pre></div></div></div></div></div>"
      ],
      "text/plain": [
       "LinearRegression()"
      ]
     },
     "execution_count": 97,
     "metadata": {},
     "output_type": "execute_result"
    }
   ],
   "source": [
    "# Create and train the linear regression model\n",
    "model = LinearRegression()\n",
    "model.fit(X_train, y_train)"
   ]
  },
  {
   "cell_type": "code",
   "execution_count": null,
   "id": "d6a7ec82",
   "metadata": {},
   "outputs": [
    {
     "name": "stdout",
     "output_type": "stream",
     "text": [
      " * Serving Flask app '__main__'\n",
      " * Debug mode: off\n"
     ]
    },
    {
     "name": "stderr",
     "output_type": "stream",
     "text": [
      "WARNING: This is a development server. Do not use it in a production deployment. Use a production WSGI server instead.\n",
      " * Running on http://127.0.0.1:5000\n",
      "Press CTRL+C to quit\n",
      "127.0.0.1 - - [06/May/2024 17:04:46] \"POST /predict HTTP/1.1\" 200 -\n"
     ]
    }
   ],
   "source": [
    "app = Flask(__name__)\n",
    "\n",
    "@app.route(\"/\")\n",
    "def home():\n",
    "  return render_template(\"home.html\", allFig=allFig)\n",
    "\n",
    "@app.route(\"/humid\")\n",
    "def humid():\n",
    "  return render_template(\"humid.html\", HumidFig=HumidFig)\n",
    "\n",
    "@app.route(\"/temp\")\n",
    "def temp():\n",
    "  return render_template(\"temp.html\", tempFig=tempFig)\n",
    "\n",
    "@app.route(\"/photo\")\n",
    "def photo():\n",
    "  return render_template(\"photo.html\", PhotoFig=PhotoFig)\n",
    "\n",
    "@app.route('/predict', methods=['GET', 'POST'])\n",
    "def index():\n",
    "    if request.method == 'POST':\n",
    "        # Get user input for time\n",
    "        input_time = request.form['input_time']\n",
    "\n",
    "        # Convert input time to datetime object\n",
    "        input_datetime = datetime.strptime(input_time, '%Y-%m-%dT%H:%M')\n",
    "\n",
    "        # Calculate elapsed seconds since the first timestamp\n",
    "        input_time_numeric = (input_datetime - start_time).total_seconds()\n",
    "\n",
    "        # Make prediction for temperature\n",
    "        # input_data = np.array([[input_time_numeric, humidity_mean, temp[0], photo_mean]])\n",
    "        # predicted_temperature = model.predict(input_data)[0]\n",
    "        \n",
    "        predicted_temperature = 5\n",
    "        \n",
    "        # Render template with prediction result\n",
    "        return render_template('predict.html', PredictFig=PredictFig, input_time=input_time, predicted_temperature=predicted_temperature)\n",
    "    \n",
    "    # Render default template for GET requests\n",
    "    return render_template('predict.html', PredictFig=PredictFig)\n",
    "\n",
    "\n",
    "if __name__ == \"__main__\":\n",
    "  app.run()"
   ]
  },
  {
   "cell_type": "code",
   "execution_count": null,
   "id": "bfd5427a",
   "metadata": {},
   "outputs": [],
   "source": []
  }
 ],
 "metadata": {
  "kernelspec": {
   "display_name": "Python 3 (ipykernel)",
   "language": "python",
   "name": "python3"
  },
  "language_info": {
   "codemirror_mode": {
    "name": "ipython",
    "version": 3
   },
   "file_extension": ".py",
   "mimetype": "text/x-python",
   "name": "python",
   "nbconvert_exporter": "python",
   "pygments_lexer": "ipython3",
   "version": "3.9.19"
  }
 },
 "nbformat": 4,
 "nbformat_minor": 5
}
